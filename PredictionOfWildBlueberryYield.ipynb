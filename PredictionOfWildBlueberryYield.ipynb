{
 "cells": [
  {
   "attachments": {},
   "cell_type": "markdown",
   "id": "0f535556",
   "metadata": {},
   "source": [
    "# 0 - Library import and prior configurations"
   ]
  },
  {
   "cell_type": "code",
   "execution_count": 3,
   "id": "5ba6c102",
   "metadata": {},
   "outputs": [],
   "source": [
    "import pandas as pd\n",
    "import numpy as np"
   ]
  },
  {
   "cell_type": "code",
   "execution_count": 4,
   "id": "323cfd67",
   "metadata": {},
   "outputs": [],
   "source": [
    "# Visualisation\n",
    "pd.set_option('display.max_columns', None)\n",
    "pd.set_option('display.max_rows', None)"
   ]
  },
  {
   "attachments": {},
   "cell_type": "markdown",
   "id": "a3810a04",
   "metadata": {},
   "source": [
    "# 1 Introducción\n",
    "\n",
    "## 1.1 Resumen del problema\n",
    "La competición \"Prediction of Wild Blueberry Yield\" está orientado a predecir la producción de arándanos silvestres construyendo un modelo predictivo que pueda predecir con precisión el rendimiento de los arándanos silvestres basándose en una serie de características relacionadas con el entorno de crecimiento, la polinización, el clima y las características de las propias bayas. Para lograr esto, se nos proporciona un conjunto de datos que contiene una serie de variables que deben ser analizadas y utilizadas para entrenar nuestro modelo. \n",
    "\n",
    "*Nuestra meta es desarrollar un modelo que sea lo más preciso posible, y que pueda ser potencialmente utilizado por agricultores y científicos para tomar decisiones más informadas acerca de la producción de arándanos silvestres.*\n",
    "\n",
    "## 1.2 Características del Conjunto de Datos\n",
    "El conjunto de datos proporciona una serie de características relevantes para la predicción del rendimiento de los arándanos silvestres. A continuación, se presenta una descripción de estas características:\n",
    "\n",
    "- *id*: Identificador único para cada observación o registro en el conjunto de datos.\n",
    "  \n",
    "- *clonesize*: Se refiere al tamaño de los clones de las plantas de arándano.\n",
    "  \n",
    "- *honeybee, bumbles, andrena, osmia*: Estos campos representan diferentes especies de abejas, y es probable que se refieran a la cantidad o presencia de estas especies en el área de crecimiento de los arándanos.\n",
    "  \n",
    "- *MaxOfUpperTRange, MinOfUpperTRange, AverageOfUpperTRange, MaxOfLowerTRange, MinOfLowerTRange, AverageOfLowerTRange*: Estos campos representan diferentes aspectos del rango de temperatura en el área de crecimiento de los arándanos.\n",
    "  \n",
    "- *RainingDays, AverageRainingDays*: Estos campos probablemente se refieren al número de días de lluvia y al promedio de días de lluvia en el área de crecimiento de los arándanos.\n",
    "  \n",
    "- *fruitset, fruitmass, seeds*: Estos campos representan diferentes aspectos de los frutos de los arándanos, incluyendo la cantidad de frutos producidos por planta, la masa de los frutos y el número de semillas por fruto.\n",
    "  \n",
    "- *yield*: Esta es la variable objetivo que estamos tratando de predecir. Representa la cantidad de arándanos producidos por unidad de tierra.\n",
    "\n",
    "A través de un análisis cuidadoso y un uso eficaz de estas características, esperamos construir un modelo de aprendizaje automático que pueda predecir con precisión el rendimiento de los arándanos silvestres.\n",
    "\n",
    "## 1.3 Acerca del mundo de los arándanos\n",
    "La producción de arándanos silvestres es una industria significativa con implicaciones globales, y su éxito depende de una compleja red de factores ecológicos y agronómicos.\n",
    "\n",
    "- *Polinización*: Un factor crítico en la producción de arándanos es la polinización, que es fundamentalmente llevada a cabo por varias especies de abejas, incluyendo las abejas melíferas, los abejorros, las Andrena y las Osmia. Estas especies son vitales para la transferencia de polen, lo que facilita la fertilización y, finalmente, la formación de frutos.\n",
    "  \n",
    "- *Condiciones Climáticas*: Las condiciones climáticas, en particular la temperatura y la precipitación, tienen un impacto significativo en el crecimiento de los arándanos. Las plantas de arándanos requieren un rango específico de temperaturas para prosperar, y los extremos en este rango pueden afectar adversamente el desarrollo de las flores y la formación de frutos. Además, el número de días de lluvia puede influir en la disponibilidad de agua para las plantas y la actividad de las abejas, afectando tanto la salud de las plantas como la eficacia de la polinización.\n",
    "  \n",
    "- *Características de las Plantas de Arándanos*: Las propiedades intrínsecas de las plantas de arándanos, como el tamaño del clon, el conjunto de frutos (fruitset), la masa del fruto (fruitmass), y el número de semillas, tienen un impacto directo en el rendimiento de la cosecha. Estas características pueden variar debido a factores genéticos y ambientales, y su interacción puede complicar la predicción del rendimiento.\n",
    "\n",
    "La comprensión de estos factores y su interacción es fundamental para desarrollar un modelo predictivo preciso para el rendimiento de los arándanos silvestres. \n",
    "\n",
    "## 1.4 Metodología\n",
    "Para afrontar el desafío de predecir el rendimiento de los arándanos silvestres, se propone:\n",
    "\n",
    "- *Análisis exploratorio de datos (EDA)*: Análisis exhaustivo para comprender la naturaleza de los datos.\n",
    "  \n",
    "- *Preprocesamiento de datos*: Basándonos en los hallazgos del EDA, realizaremos el preprocesamiento de datos necesario. Esto puede incluir la imputación de valores faltantes, la transformación de características y la eliminación de outliers si se considera apropiado.\n",
    "  \n",
    "- *Ingeniería de características*: Exploraremos la creación de nuevas características a partir de las existentes para mejorar el rendimiento del modelo. Esto podría implicar la combinación de características relacionadas o la creación de características de interacción que capturen relaciones entre las características existentes.\n",
    "  \n",
    "- *Selección de modelos*: Probaremos varios modelos de aprendizaje automático con el objetivo de identificar el tipo de modelo más prometedor para este problema.\n",
    "  \n",
    "- *Optimización de hiperparámetros*: Una vez seleccionado el modelo se trabajará en la optimización de sus hiperparámetros para maximizar su rendimiento. \n",
    "  \n",
    "- *Evaluación de modelos*: Finalmente, evaluaremos el rendimiento del modelo.\n"
   ]
  },
  {
   "attachments": {},
   "cell_type": "markdown",
   "id": "bb64ce46",
   "metadata": {
    "papermill": {
     "duration": 0.014726,
     "end_time": "2022-11-15T18:16:35.920838",
     "exception": false,
     "start_time": "2022-11-15T18:16:35.906112",
     "status": "completed"
    },
    "tags": []
   },
   "source": [
    "# 1 - Import the Data"
   ]
  },
  {
   "cell_type": "code",
   "execution_count": 8,
   "id": "e30eac05",
   "metadata": {
    "_cell_guid": "b1076dfc-b9ad-4769-8c92-a6c4dae69d19",
    "_uuid": "8f2839f25d086af736a60e9eeb907d3b93b6e0e5",
    "execution": {
     "iopub.execute_input": "2022-11-15T18:16:35.991895Z",
     "iopub.status.busy": "2022-11-15T18:16:35.991253Z",
     "iopub.status.idle": "2022-11-15T18:16:36.058551Z",
     "shell.execute_reply": "2022-11-15T18:16:36.057599Z"
    },
    "papermill": {
     "duration": 0.084689,
     "end_time": "2022-11-15T18:16:36.061088",
     "exception": false,
     "start_time": "2022-11-15T18:16:35.976399",
     "status": "completed"
    },
    "tags": []
   },
   "outputs": [],
   "source": [
    "# Read data    \n",
    "dataTrain = pd.read_csv('input/train.csv')\n",
    "dataTest = pd.read_csv('input/test.csv')"
   ]
  },
  {
   "cell_type": "code",
   "execution_count": 41,
   "id": "0d305221",
   "metadata": {},
   "outputs": [],
   "source": [
    "X_train = dataTrain.drop(['yield'], axis=1)\n",
    "y_train = dataTrain['yield']\n",
    "\n",
    "X_test = dataTest"
   ]
  },
  {
   "cell_type": "code",
   "execution_count": 46,
   "id": "b9a429aa",
   "metadata": {
    "execution": {
     "iopub.execute_input": "2022-11-15T18:16:36.091700Z",
     "iopub.status.busy": "2022-11-15T18:16:36.091026Z",
     "iopub.status.idle": "2022-11-15T18:16:36.095990Z",
     "shell.execute_reply": "2022-11-15T18:16:36.095287Z"
    },
    "papermill": {
     "duration": 0.022938,
     "end_time": "2022-11-15T18:16:36.098310",
     "exception": false,
     "start_time": "2022-11-15T18:16:36.075372",
     "status": "completed"
    },
    "tags": []
   },
   "outputs": [
    {
     "name": "stdout",
     "output_type": "stream",
     "text": [
      "X_train: (15289, 18)  X_test: (10194, 17)\n"
     ]
    }
   ],
   "source": [
    "# Print shape of data \n",
    "print(f\"X_train: {dataTrain.shape}  X_test: {dataTest.shape}\")\n"
   ]
  },
  {
   "cell_type": "code",
   "execution_count": 10,
   "id": "9f8a17d7",
   "metadata": {},
   "outputs": [
    {
     "data": {
      "text/html": [
       "<div>\n",
       "<style scoped>\n",
       "    .dataframe tbody tr th:only-of-type {\n",
       "        vertical-align: middle;\n",
       "    }\n",
       "\n",
       "    .dataframe tbody tr th {\n",
       "        vertical-align: top;\n",
       "    }\n",
       "\n",
       "    .dataframe thead th {\n",
       "        text-align: right;\n",
       "    }\n",
       "</style>\n",
       "<table border=\"1\" class=\"dataframe\">\n",
       "  <thead>\n",
       "    <tr style=\"text-align: right;\">\n",
       "      <th></th>\n",
       "      <th>id</th>\n",
       "      <th>clonesize</th>\n",
       "      <th>honeybee</th>\n",
       "      <th>bumbles</th>\n",
       "      <th>andrena</th>\n",
       "      <th>osmia</th>\n",
       "      <th>MaxOfUpperTRange</th>\n",
       "      <th>MinOfUpperTRange</th>\n",
       "      <th>AverageOfUpperTRange</th>\n",
       "      <th>MaxOfLowerTRange</th>\n",
       "      <th>MinOfLowerTRange</th>\n",
       "      <th>AverageOfLowerTRange</th>\n",
       "      <th>RainingDays</th>\n",
       "      <th>AverageRainingDays</th>\n",
       "      <th>fruitset</th>\n",
       "      <th>fruitmass</th>\n",
       "      <th>seeds</th>\n",
       "      <th>yield</th>\n",
       "    </tr>\n",
       "  </thead>\n",
       "  <tbody>\n",
       "    <tr>\n",
       "      <th>0</th>\n",
       "      <td>0</td>\n",
       "      <td>25.0</td>\n",
       "      <td>0.50</td>\n",
       "      <td>0.25</td>\n",
       "      <td>0.75</td>\n",
       "      <td>0.50</td>\n",
       "      <td>69.7</td>\n",
       "      <td>42.1</td>\n",
       "      <td>58.2</td>\n",
       "      <td>50.2</td>\n",
       "      <td>24.3</td>\n",
       "      <td>41.2</td>\n",
       "      <td>24.0</td>\n",
       "      <td>0.39</td>\n",
       "      <td>0.425011</td>\n",
       "      <td>0.417545</td>\n",
       "      <td>32.460887</td>\n",
       "      <td>4476.81146</td>\n",
       "    </tr>\n",
       "    <tr>\n",
       "      <th>1</th>\n",
       "      <td>1</td>\n",
       "      <td>25.0</td>\n",
       "      <td>0.50</td>\n",
       "      <td>0.25</td>\n",
       "      <td>0.50</td>\n",
       "      <td>0.50</td>\n",
       "      <td>69.7</td>\n",
       "      <td>42.1</td>\n",
       "      <td>58.2</td>\n",
       "      <td>50.2</td>\n",
       "      <td>24.3</td>\n",
       "      <td>41.2</td>\n",
       "      <td>24.0</td>\n",
       "      <td>0.39</td>\n",
       "      <td>0.444908</td>\n",
       "      <td>0.422051</td>\n",
       "      <td>33.858317</td>\n",
       "      <td>5548.12201</td>\n",
       "    </tr>\n",
       "    <tr>\n",
       "      <th>2</th>\n",
       "      <td>2</td>\n",
       "      <td>12.5</td>\n",
       "      <td>0.25</td>\n",
       "      <td>0.25</td>\n",
       "      <td>0.63</td>\n",
       "      <td>0.63</td>\n",
       "      <td>86.0</td>\n",
       "      <td>52.0</td>\n",
       "      <td>71.9</td>\n",
       "      <td>62.0</td>\n",
       "      <td>30.0</td>\n",
       "      <td>50.8</td>\n",
       "      <td>24.0</td>\n",
       "      <td>0.39</td>\n",
       "      <td>0.552927</td>\n",
       "      <td>0.470853</td>\n",
       "      <td>38.341781</td>\n",
       "      <td>6869.77760</td>\n",
       "    </tr>\n",
       "    <tr>\n",
       "      <th>3</th>\n",
       "      <td>3</td>\n",
       "      <td>12.5</td>\n",
       "      <td>0.25</td>\n",
       "      <td>0.25</td>\n",
       "      <td>0.63</td>\n",
       "      <td>0.50</td>\n",
       "      <td>77.4</td>\n",
       "      <td>46.8</td>\n",
       "      <td>64.7</td>\n",
       "      <td>55.8</td>\n",
       "      <td>27.0</td>\n",
       "      <td>45.8</td>\n",
       "      <td>24.0</td>\n",
       "      <td>0.39</td>\n",
       "      <td>0.565976</td>\n",
       "      <td>0.478137</td>\n",
       "      <td>39.467561</td>\n",
       "      <td>6880.77590</td>\n",
       "    </tr>\n",
       "    <tr>\n",
       "      <th>4</th>\n",
       "      <td>4</td>\n",
       "      <td>25.0</td>\n",
       "      <td>0.50</td>\n",
       "      <td>0.25</td>\n",
       "      <td>0.63</td>\n",
       "      <td>0.63</td>\n",
       "      <td>77.4</td>\n",
       "      <td>46.8</td>\n",
       "      <td>64.7</td>\n",
       "      <td>55.8</td>\n",
       "      <td>27.0</td>\n",
       "      <td>45.8</td>\n",
       "      <td>24.0</td>\n",
       "      <td>0.39</td>\n",
       "      <td>0.579677</td>\n",
       "      <td>0.494165</td>\n",
       "      <td>40.484512</td>\n",
       "      <td>7479.93417</td>\n",
       "    </tr>\n",
       "  </tbody>\n",
       "</table>\n",
       "</div>"
      ],
      "text/plain": [
       "   id  clonesize  honeybee  bumbles  andrena  osmia  MaxOfUpperTRange   \n",
       "0   0       25.0      0.50     0.25     0.75   0.50              69.7  \\\n",
       "1   1       25.0      0.50     0.25     0.50   0.50              69.7   \n",
       "2   2       12.5      0.25     0.25     0.63   0.63              86.0   \n",
       "3   3       12.5      0.25     0.25     0.63   0.50              77.4   \n",
       "4   4       25.0      0.50     0.25     0.63   0.63              77.4   \n",
       "\n",
       "   MinOfUpperTRange  AverageOfUpperTRange  MaxOfLowerTRange  MinOfLowerTRange   \n",
       "0              42.1                  58.2              50.2              24.3  \\\n",
       "1              42.1                  58.2              50.2              24.3   \n",
       "2              52.0                  71.9              62.0              30.0   \n",
       "3              46.8                  64.7              55.8              27.0   \n",
       "4              46.8                  64.7              55.8              27.0   \n",
       "\n",
       "   AverageOfLowerTRange  RainingDays  AverageRainingDays  fruitset  fruitmass   \n",
       "0                  41.2         24.0                0.39  0.425011   0.417545  \\\n",
       "1                  41.2         24.0                0.39  0.444908   0.422051   \n",
       "2                  50.8         24.0                0.39  0.552927   0.470853   \n",
       "3                  45.8         24.0                0.39  0.565976   0.478137   \n",
       "4                  45.8         24.0                0.39  0.579677   0.494165   \n",
       "\n",
       "       seeds       yield  \n",
       "0  32.460887  4476.81146  \n",
       "1  33.858317  5548.12201  \n",
       "2  38.341781  6869.77760  \n",
       "3  39.467561  6880.77590  \n",
       "4  40.484512  7479.93417  "
      ]
     },
     "execution_count": 10,
     "metadata": {},
     "output_type": "execute_result"
    }
   ],
   "source": [
    "dataTrain.head()"
   ]
  },
  {
   "cell_type": "code",
   "execution_count": 12,
   "id": "f12a0dc1",
   "metadata": {
    "execution": {
     "iopub.execute_input": "2022-11-15T18:16:36.129939Z",
     "iopub.status.busy": "2022-11-15T18:16:36.128538Z",
     "iopub.status.idle": "2022-11-15T18:16:36.148733Z",
     "shell.execute_reply": "2022-11-15T18:16:36.147844Z"
    },
    "papermill": {
     "duration": 0.037964,
     "end_time": "2022-11-15T18:16:36.151354",
     "exception": false,
     "start_time": "2022-11-15T18:16:36.113390",
     "status": "completed"
    },
    "tags": []
   },
   "outputs": [],
   "source": [
    "# Concatenate dataTrain and dataTest\n",
    "X_train=dataTrain\n",
    "# Print first 10 rows of X_train\n",
    "#X_train.head(10)"
   ]
  },
  {
   "attachments": {},
   "cell_type": "markdown",
   "id": "403ea38c",
   "metadata": {
    "papermill": {
     "duration": 0.014359,
     "end_time": "2022-11-15T18:16:36.253521",
     "exception": false,
     "start_time": "2022-11-15T18:16:36.239162",
     "status": "completed"
    },
    "tags": []
   },
   "source": [
    "# 2 - Transform the data"
   ]
  },
  {
   "attachments": {},
   "cell_type": "markdown",
   "id": "db33ae24",
   "metadata": {},
   "source": [
    "## 2.1 - Null values analysis"
   ]
  },
  {
   "cell_type": "code",
   "execution_count": 13,
   "id": "b0dcdb06",
   "metadata": {
    "execution": {
     "iopub.execute_input": "2022-11-15T18:16:36.284769Z",
     "iopub.status.busy": "2022-11-15T18:16:36.284145Z",
     "iopub.status.idle": "2022-11-15T18:16:36.307797Z",
     "shell.execute_reply": "2022-11-15T18:16:36.306732Z"
    },
    "papermill": {
     "duration": 0.04182,
     "end_time": "2022-11-15T18:16:36.310095",
     "exception": false,
     "start_time": "2022-11-15T18:16:36.268275",
     "status": "completed"
    },
    "tags": []
   },
   "outputs": [
    {
     "data": {
      "text/html": [
       "<div>\n",
       "<style scoped>\n",
       "    .dataframe tbody tr th:only-of-type {\n",
       "        vertical-align: middle;\n",
       "    }\n",
       "\n",
       "    .dataframe tbody tr th {\n",
       "        vertical-align: top;\n",
       "    }\n",
       "\n",
       "    .dataframe thead th {\n",
       "        text-align: right;\n",
       "    }\n",
       "</style>\n",
       "<table border=\"1\" class=\"dataframe\">\n",
       "  <thead>\n",
       "    <tr style=\"text-align: right;\">\n",
       "      <th></th>\n",
       "      <th>Null</th>\n",
       "      <th>Null%</th>\n",
       "      <th>Type</th>\n",
       "    </tr>\n",
       "  </thead>\n",
       "  <tbody>\n",
       "    <tr>\n",
       "      <th>id</th>\n",
       "      <td>0</td>\n",
       "      <td>0.0</td>\n",
       "      <td>int64</td>\n",
       "    </tr>\n",
       "    <tr>\n",
       "      <th>clonesize</th>\n",
       "      <td>0</td>\n",
       "      <td>0.0</td>\n",
       "      <td>float64</td>\n",
       "    </tr>\n",
       "    <tr>\n",
       "      <th>honeybee</th>\n",
       "      <td>0</td>\n",
       "      <td>0.0</td>\n",
       "      <td>float64</td>\n",
       "    </tr>\n",
       "    <tr>\n",
       "      <th>bumbles</th>\n",
       "      <td>0</td>\n",
       "      <td>0.0</td>\n",
       "      <td>float64</td>\n",
       "    </tr>\n",
       "    <tr>\n",
       "      <th>andrena</th>\n",
       "      <td>0</td>\n",
       "      <td>0.0</td>\n",
       "      <td>float64</td>\n",
       "    </tr>\n",
       "    <tr>\n",
       "      <th>osmia</th>\n",
       "      <td>0</td>\n",
       "      <td>0.0</td>\n",
       "      <td>float64</td>\n",
       "    </tr>\n",
       "    <tr>\n",
       "      <th>MaxOfUpperTRange</th>\n",
       "      <td>0</td>\n",
       "      <td>0.0</td>\n",
       "      <td>float64</td>\n",
       "    </tr>\n",
       "    <tr>\n",
       "      <th>MinOfUpperTRange</th>\n",
       "      <td>0</td>\n",
       "      <td>0.0</td>\n",
       "      <td>float64</td>\n",
       "    </tr>\n",
       "    <tr>\n",
       "      <th>AverageOfUpperTRange</th>\n",
       "      <td>0</td>\n",
       "      <td>0.0</td>\n",
       "      <td>float64</td>\n",
       "    </tr>\n",
       "    <tr>\n",
       "      <th>MaxOfLowerTRange</th>\n",
       "      <td>0</td>\n",
       "      <td>0.0</td>\n",
       "      <td>float64</td>\n",
       "    </tr>\n",
       "    <tr>\n",
       "      <th>MinOfLowerTRange</th>\n",
       "      <td>0</td>\n",
       "      <td>0.0</td>\n",
       "      <td>float64</td>\n",
       "    </tr>\n",
       "    <tr>\n",
       "      <th>AverageOfLowerTRange</th>\n",
       "      <td>0</td>\n",
       "      <td>0.0</td>\n",
       "      <td>float64</td>\n",
       "    </tr>\n",
       "    <tr>\n",
       "      <th>RainingDays</th>\n",
       "      <td>0</td>\n",
       "      <td>0.0</td>\n",
       "      <td>float64</td>\n",
       "    </tr>\n",
       "    <tr>\n",
       "      <th>AverageRainingDays</th>\n",
       "      <td>0</td>\n",
       "      <td>0.0</td>\n",
       "      <td>float64</td>\n",
       "    </tr>\n",
       "    <tr>\n",
       "      <th>fruitset</th>\n",
       "      <td>0</td>\n",
       "      <td>0.0</td>\n",
       "      <td>float64</td>\n",
       "    </tr>\n",
       "    <tr>\n",
       "      <th>fruitmass</th>\n",
       "      <td>0</td>\n",
       "      <td>0.0</td>\n",
       "      <td>float64</td>\n",
       "    </tr>\n",
       "    <tr>\n",
       "      <th>seeds</th>\n",
       "      <td>0</td>\n",
       "      <td>0.0</td>\n",
       "      <td>float64</td>\n",
       "    </tr>\n",
       "    <tr>\n",
       "      <th>yield</th>\n",
       "      <td>0</td>\n",
       "      <td>0.0</td>\n",
       "      <td>float64</td>\n",
       "    </tr>\n",
       "  </tbody>\n",
       "</table>\n",
       "</div>"
      ],
      "text/plain": [
       "                      Null  Null%     Type\n",
       "id                       0    0.0    int64\n",
       "clonesize                0    0.0  float64\n",
       "honeybee                 0    0.0  float64\n",
       "bumbles                  0    0.0  float64\n",
       "andrena                  0    0.0  float64\n",
       "osmia                    0    0.0  float64\n",
       "MaxOfUpperTRange         0    0.0  float64\n",
       "MinOfUpperTRange         0    0.0  float64\n",
       "AverageOfUpperTRange     0    0.0  float64\n",
       "MaxOfLowerTRange         0    0.0  float64\n",
       "MinOfLowerTRange         0    0.0  float64\n",
       "AverageOfLowerTRange     0    0.0  float64\n",
       "RainingDays              0    0.0  float64\n",
       "AverageRainingDays       0    0.0  float64\n",
       "fruitset                 0    0.0  float64\n",
       "fruitmass                0    0.0  float64\n",
       "seeds                    0    0.0  float64\n",
       "yield                    0    0.0  float64"
      ]
     },
     "execution_count": 13,
     "metadata": {},
     "output_type": "execute_result"
    }
   ],
   "source": [
    "X_null_sum = X_train.isnull().sum() # Number of null values in each feature\n",
    "X_nullP = round(X_train.isnull().sum()/X_train.shape[0]*100,1) # Percentage of null values in each feature rounded to 1 decimal\n",
    "X_type = X_train.dtypes # Type of each feature\n",
    "X_info = pd.concat([X_null_sum, X_nullP, X_type], axis=1) # Concatenate X_null, X_nullP and X_type in one dataframe\n",
    "X_info.columns = ['Null', 'Null%', 'Type'] # Rename columns\n",
    "X_info"
   ]
  },
  {
   "attachments": {},
   "cell_type": "markdown",
   "id": "e8f0467d",
   "metadata": {},
   "source": [
    "No null values found on the dataset"
   ]
  },
  {
   "attachments": {},
   "cell_type": "markdown",
   "id": "e4c46830",
   "metadata": {
    "papermill": {
     "duration": 0.016445,
     "end_time": "2022-11-15T18:16:38.005668",
     "exception": false,
     "start_time": "2022-11-15T18:16:37.989223",
     "status": "completed"
    },
    "tags": []
   },
   "source": [
    "Splitting Cabin feature"
   ]
  },
  {
   "attachments": {},
   "cell_type": "markdown",
   "id": "d6b67800",
   "metadata": {
    "papermill": {
     "duration": 0.017271,
     "end_time": "2022-11-15T18:16:38.600705",
     "exception": false,
     "start_time": "2022-11-15T18:16:38.583434",
     "status": "completed"
    },
    "tags": []
   },
   "source": [
    "## 3 - Feature engineering"
   ]
  },
  {
   "cell_type": "code",
   "execution_count": 20,
   "id": "75a533d3",
   "metadata": {},
   "outputs": [
    {
     "data": {
      "text/plain": [
       "id                      15289\n",
       "clonesize                   6\n",
       "honeybee                    7\n",
       "bumbles                    11\n",
       "andrena                    16\n",
       "osmia                      14\n",
       "MaxOfUpperTRange            6\n",
       "MinOfUpperTRange            5\n",
       "AverageOfUpperTRange        5\n",
       "MaxOfLowerTRange            6\n",
       "MinOfLowerTRange            7\n",
       "AverageOfLowerTRange        5\n",
       "RainingDays                 6\n",
       "AverageRainingDays          8\n",
       "fruitset                 1526\n",
       "fruitmass                1515\n",
       "seeds                    2066\n",
       "yield                     776\n",
       "dtype: int64"
      ]
     },
     "execution_count": 20,
     "metadata": {},
     "output_type": "execute_result"
    }
   ],
   "source": [
    "# Show sum of unique values in each feature\n",
    "X_train.nunique()"
   ]
  },
  {
   "cell_type": "code",
   "execution_count": 21,
   "id": "522e1fa1",
   "metadata": {
    "execution": {
     "iopub.execute_input": "2022-11-15T18:16:38.637893Z",
     "iopub.status.busy": "2022-11-15T18:16:38.637196Z",
     "iopub.status.idle": "2022-11-15T18:16:38.644289Z",
     "shell.execute_reply": "2022-11-15T18:16:38.643639Z"
    },
    "papermill": {
     "duration": 0.027182,
     "end_time": "2022-11-15T18:16:38.645992",
     "exception": false,
     "start_time": "2022-11-15T18:16:38.618810",
     "status": "completed"
    },
    "tags": []
   },
   "outputs": [
    {
     "data": {
      "text/plain": [
       "clonesize               6\n",
       "honeybee                7\n",
       "MaxOfUpperTRange        6\n",
       "MinOfUpperTRange        5\n",
       "AverageOfUpperTRange    5\n",
       "MaxOfLowerTRange        6\n",
       "MinOfLowerTRange        7\n",
       "AverageOfLowerTRange    5\n",
       "RainingDays             6\n",
       "AverageRainingDays      8\n",
       "dtype: int64"
      ]
     },
     "execution_count": 21,
     "metadata": {},
     "output_type": "execute_result"
    }
   ],
   "source": [
    "# Get columns with sum of unique values below 10\n",
    "X_features_UV_B10 = X_train.nunique()[X_train.nunique() < 10]\n",
    "X_features_UV_B10.head(20)"
   ]
  },
  {
   "attachments": {},
   "cell_type": "markdown",
   "id": "dcc2fc04",
   "metadata": {},
   "source": [
    "## 3.1 - Clonessize Feature"
   ]
  },
  {
   "cell_type": "code",
   "execution_count": 39,
   "id": "1661e4de",
   "metadata": {},
   "outputs": [
    {
     "data": {
      "text/plain": [
       "array([25. , 12.5, 37.5, 20. , 10. , 40. ])"
      ]
     },
     "execution_count": 39,
     "metadata": {},
     "output_type": "execute_result"
    }
   ],
   "source": [
    "# All unique values of clonesize feature\n",
    "X_train['clonesize'].unique()"
   ]
  },
  {
   "cell_type": "code",
   "execution_count": 38,
   "id": "02728b78",
   "metadata": {},
   "outputs": [
    {
     "data": {
      "text/plain": [
       "Text(0.5, 1.0, 'Histogram of clonesize feature')"
      ]
     },
     "execution_count": 38,
     "metadata": {},
     "output_type": "execute_result"
    },
    {
     "data": {
      "image/png": "[encoded data removed]",
      "text/plain": [
       "<Figure size 500x500 with 1 Axes>"
      ]
     },
     "metadata": {},
     "output_type": "display_data"
    }
   ],
   "source": [
    "# Histogram for clonesize feature with values converted to percentage and showing it in %\n",
    "(X_train['clonesize'].value_counts(normalize=True)*100).plot(kind='bar', stacked=True, figsize=(5, 5))\n",
    "# X title\n",
    "plt.xlabel('clonesize')\n",
    "# Y title\n",
    "plt.ylabel('Percentage')\n",
    "# Plot title\n",
    "plt.title('Histogram of clonesize feature')"
   ]
  },
  {
   "attachments": {},
   "cell_type": "markdown",
   "id": "06415bc4",
   "metadata": {
    "papermill": {
     "duration": 0.021969,
     "end_time": "2022-11-15T18:16:40.391227",
     "exception": false,
     "start_time": "2022-11-15T18:16:40.369258",
     "status": "completed"
    },
    "tags": []
   },
   "source": [
    "# 4 - Modeling\n",
    "## 4.1 - Preprocessing data prior to modeling"
   ]
  },
  {
   "cell_type": "code",
   "execution_count": null,
   "id": "6b63fdfe",
   "metadata": {
    "execution": {
     "iopub.execute_input": "2022-11-15T18:16:45.168407Z",
     "iopub.status.busy": "2022-11-15T18:16:45.167767Z",
     "iopub.status.idle": "2022-11-15T18:16:45.172236Z",
     "shell.execute_reply": "2022-11-15T18:16:45.171066Z"
    },
    "papermill": {
     "duration": 0.033568,
     "end_time": "2022-11-15T18:16:45.174749",
     "exception": false,
     "start_time": "2022-11-15T18:16:45.141181",
     "status": "completed"
    },
    "tags": []
   },
   "outputs": [],
   "source": [
    "# Shapoe of X_train, X_test, y_train and y_test\n",
    "print(f\"X_train: {X_train.shape}  X_test: {X_test.shape}  y_train: {y_test.shape}\")"
   ]
  },
  {
   "cell_type": "code",
   "execution_count": null,
   "id": "c4835563",
   "metadata": {
    "execution": {
     "iopub.execute_input": "2022-11-15T18:16:45.223993Z",
     "iopub.status.busy": "2022-11-15T18:16:45.223604Z",
     "iopub.status.idle": "2022-11-15T18:16:45.236335Z",
     "shell.execute_reply": "2022-11-15T18:16:45.235269Z"
    },
    "papermill": {
     "duration": 0.040622,
     "end_time": "2022-11-15T18:16:45.239102",
     "exception": false,
     "start_time": "2022-11-15T18:16:45.198480",
     "status": "completed"
    },
    "tags": []
   },
   "outputs": [],
   "source": [
    "# Output for submission\n",
    "output = pd.DataFrame({'id': X_test['id'],\n",
    "                       'yield': y_test})\n",
    "output.to_csv('submission.csv', index=False) "
   ]
  }
 ],
 "metadata": {
  "kernelspec": {
   "display_name": "Python 3",
   "language": "python",
   "name": "python3"
  },
  "language_info": {
   "codemirror_mode": {
    "name": "ipython",
    "version": 3
   },
   "file_extension": ".py",
   "mimetype": "text/x-python",
   "name": "python",
   "nbconvert_exporter": "python",
   "pygments_lexer": "ipython3",
   "version": "3.11.2"
  },
  "papermill": {
   "default_parameters": {},
   "duration": 18.086252,
   "end_time": "2022-11-15T18:16:46.184952",
   "environment_variables": {},
   "exception": null,
   "input_path": "__notebook__.ipynb",
   "output_path": "__notebook__.ipynb",
   "parameters": {},
   "start_time": "2022-11-15T18:16:28.098700",
   "version": "2.3.4"
  }
 },
 "nbformat": 4,
 "nbformat_minor": 5
}
